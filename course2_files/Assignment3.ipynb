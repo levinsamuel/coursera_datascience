{
 "cells": [
  {
   "cell_type": "markdown",
   "metadata": {},
   "source": [
    "# Assignment 3 - Building a Custom Visualization\n",
    "\n",
    "---\n",
    "\n",
    "In this assignment you must choose one of the options presented below and submit a visual as well as your source code for peer grading. The details of how you solve the assignment are up to you, although your assignment must use matplotlib so that your peers can evaluate your work. The options differ in challenge level, but there are no grades associated with the challenge level you chose. However, your peers will be asked to ensure you at least met a minimum quality for a given technique in order to pass. Implement the technique fully (or exceed it!) and you should be able to earn full grades for the assignment.\n",
    "\n",
    "\n",
    "&nbsp;&nbsp;&nbsp;&nbsp;&nbsp;&nbsp;Ferreira, N., Fisher, D., & Konig, A. C. (2014, April). [Sample-oriented task-driven visualizations: allowing users to make better, more confident decisions.](https://www.microsoft.com/en-us/research/wp-content/uploads/2016/02/Ferreira_Fisher_Sample_Oriented_Tasks.pdf) \n",
    "&nbsp;&nbsp;&nbsp;&nbsp;&nbsp;&nbsp;In Proceedings of the SIGCHI Conference on Human Factors in Computing Systems (pp. 571-580). ACM. ([video](https://www.youtube.com/watch?v=BI7GAs-va-Q))\n",
    "\n",
    "\n",
    "In this [paper](https://www.microsoft.com/en-us/research/wp-content/uploads/2016/02/Ferreira_Fisher_Sample_Oriented_Tasks.pdf) the authors describe the challenges users face when trying to make judgements about probabilistic data generated through samples. As an example, they look at a bar chart of four years of data (replicated below in Figure 1). Each year has a y-axis value, which is derived from a sample of a larger dataset. For instance, the first value might be the number votes in a given district or riding for 1992, with the average being around 33,000. On top of this is plotted the 95% confidence interval for the mean (see the boxplot lectures for more information, and the yerr parameter of barcharts).\n",
    "\n",
    "<br>\n",
    "<img src=\"readonly/Assignment3Fig1.png\" alt=\"Figure 1\" style=\"width: 400px;\"/>\n",
    "<h4 style=\"text-align: center;\" markdown=\"1\">  &nbsp;&nbsp;&nbsp;&nbsp;&nbsp;&nbsp;&nbsp;&nbsp;Figure 1 from (Ferreira et al, 2014).</h4>\n",
    "\n",
    "<br>\n",
    "\n",
    "A challenge that users face is that, for a given y-axis value (e.g. 42,000), it is difficult to know which x-axis values are most likely to be representative, because the confidence levels overlap and their distributions are different (the lengths of the confidence interval bars are unequal). One of the solutions the authors propose for this problem (Figure 2c) is to allow users to indicate the y-axis value of interest (e.g. 42,000) and then draw a horizontal line and color bars based on this value. So bars might be colored red if they are definitely above this value (given the confidence interval), blue if they are definitely below this value, or white if they contain this value.\n",
    "\n",
    "\n",
    "<br>\n",
    "<img src=\"readonly/Assignment3Fig2c.png\" alt=\"Figure 1\" style=\"width: 400px;\"/>\n",
    "<h4 style=\"text-align: center;\" markdown=\"1\">  Figure 2c from (Ferreira et al. 2014). Note that the colorbar legend at the bottom as well as the arrows are not required in the assignment descriptions below.</h4>\n",
    "\n",
    "<br>\n",
    "<br>\n",
    "\n",
    "**Easiest option:** Implement the bar coloring as described above - a color scale with only three colors, (e.g. blue, white, and red). Assume the user provides the y axis value of interest as a parameter or variable.\n",
    "\n",
    "\n",
    "**Harder option:** Implement the bar coloring as described in the paper, where the color of the bar is actually based on the amount of data covered (e.g. a gradient ranging from dark blue for the distribution being certainly below this y-axis, to white if the value is certainly contained, to dark red if the value is certainly not contained as the distribution is above the axis).\n",
    "\n",
    "**Even Harder option:** Add interactivity to the above, which allows the user to click on the y axis to set the value of interest. The bar colors should change with respect to what value the user has selected.\n",
    "\n",
    "**Hardest option:** Allow the user to interactively set a range of y values they are interested in, and recolor based on this (e.g. a y-axis band, see the paper for more details).\n",
    "\n",
    "---\n",
    "\n",
    "*Note: The data given for this assignment is not the same as the data used in the article and as a result the visualizations may look a little different.*"
   ]
  },
  {
   "cell_type": "code",
   "execution_count": null,
   "metadata": {
    "ExecuteTime": {
     "end_time": "2019-01-27T07:05:52.806418Z",
     "start_time": "2019-01-27T07:05:52.219103Z"
    }
   },
   "outputs": [],
   "source": [
    "# Use the following data for this assignment:\n",
    "\n",
    "import pandas as pd\n",
    "import numpy as np\n",
    "\n",
    "np.random.seed(12345)\n",
    "\n",
    "df = pd.DataFrame([np.random.normal(32000,200000,3650), \n",
    "                   np.random.normal(43000,100000,3650), \n",
    "                   np.random.normal(43500,140000,3650), \n",
    "                   np.random.normal(48000,70000,3650)], \n",
    "                  index=[1992,1993,1994,1995])\n",
    "df"
   ]
  },
  {
   "cell_type": "markdown",
   "metadata": {},
   "source": [
    "## Initialize imports, logger"
   ]
  },
  {
   "cell_type": "code",
   "execution_count": null,
   "metadata": {
    "ExecuteTime": {
     "end_time": "2019-01-27T07:05:53.513844Z",
     "start_time": "2019-01-27T07:05:52.810416Z"
    }
   },
   "outputs": [],
   "source": [
    "import matplotlib.pyplot as plt\n",
    "from matplotlib import animation, gridspec, widgets, cm\n",
    "from matplotlib.lines import Line2D\n",
    "from matplotlib.patches import Patch\n",
    "import logging, sys\n",
    "import scipy.stats as st\n",
    "\n",
    "log = logging.getLogger('assigment3')\n",
    "logging.basicConfig()\n"
   ]
  },
  {
   "cell_type": "code",
   "execution_count": null,
   "metadata": {
    "ExecuteTime": {
     "end_time": "2019-01-27T07:05:53.524436Z",
     "start_time": "2019-01-27T07:05:53.513844Z"
    }
   },
   "outputs": [],
   "source": [
    "%matplotlib notebook"
   ]
  },
  {
   "cell_type": "markdown",
   "metadata": {},
   "source": [
    "## Calculate statistics on data\n",
    "\n",
    "### Mean, standard error, and degrees of freedom"
   ]
  },
  {
   "cell_type": "code",
   "execution_count": null,
   "metadata": {
    "ExecuteTime": {
     "end_time": "2019-01-27T07:05:53.560447Z",
     "start_time": "2019-01-27T07:05:53.528417Z"
    }
   },
   "outputs": [],
   "source": [
    "dfT = df.sort_index().T\n",
    "stats = pd.DataFrame({'mean': dfT.apply(np.mean),\n",
    "                      'stderr': dfT.apply(st.sem),\n",
    "                      'dof': dfT.count()-1})"
   ]
  },
  {
   "cell_type": "markdown",
   "metadata": {},
   "source": [
    "### 95% confidence interval"
   ]
  },
  {
   "cell_type": "code",
   "execution_count": null,
   "metadata": {
    "ExecuteTime": {
     "end_time": "2019-01-27T07:05:53.596419Z",
     "start_time": "2019-01-27T07:05:53.564409Z"
    }
   },
   "outputs": [],
   "source": [
    "ar1, ar2 = st.t.interval(0.95, stats['dof'], loc=stats['mean'], scale=stats['stderr'])\n",
    "stats['interval'] = stats['mean'] - ar1\n",
    "stats"
   ]
  },
  {
   "cell_type": "markdown",
   "metadata": {},
   "source": [
    "### 1-sample t-test, for calculating chance the mean is different than the hypothesis value, given the sample"
   ]
  },
  {
   "cell_type": "code",
   "execution_count": null,
   "metadata": {
    "ExecuteTime": {
     "end_time": "2019-01-27T07:05:53.624394Z",
     "start_time": "2019-01-27T07:05:53.596419Z"
    }
   },
   "outputs": [],
   "source": [
    "res = st.ttest_1samp(dfT, 40000)"
   ]
  },
  {
   "cell_type": "markdown",
   "metadata": {},
   "source": [
    "### Cumulative density function, for finding the portion of mean probability between two values"
   ]
  },
  {
   "cell_type": "code",
   "execution_count": null,
   "metadata": {
    "ExecuteTime": {
     "end_time": "2019-01-27T07:05:53.640408Z",
     "start_time": "2019-01-27T07:05:53.624394Z"
    }
   },
   "outputs": [],
   "source": [
    "st.t.cdf(40000, stats['dof'], loc=stats['mean'], scale=stats['stderr'])"
   ]
  },
  {
   "cell_type": "markdown",
   "metadata": {},
   "source": [
    "## Helper methods for color map"
   ]
  },
  {
   "cell_type": "code",
   "execution_count": null,
   "metadata": {
    "ExecuteTime": {
     "end_time": "2019-01-27T07:05:53.716376Z",
     "start_time": "2019-01-27T07:05:53.640408Z"
    }
   },
   "outputs": [],
   "source": [
    "def p_to_norm(p, higher):\n",
    "    \"\"\"Scale a p value to a value between 0 and 1 for the color map. choose a scale to adjust the rate of gradient change\"\"\"\n",
    "    scaled = np.power(p, 0.3)\n",
    "    return (0.5 + (1-scaled)/2) if higher else scaled/2\n",
    "\n",
    "def p_to_color_old(p, higher=False):\n",
    "    \"\"\"Convert of p value to a color hex code in form '#rrggbb'.\n",
    "higher=True if the observed mean (bar height) is higher than the test mean.\"\"\"\n",
    "#     get_hex = lambda fl: hex(int(np.floor(p*256)))[2:4]\n",
    "    get_hex = lambda fl: int(np.floor(p*256))\n",
    "    g = get_hex(p)\n",
    "    r = 255 if higher else get_hex(p)\n",
    "    b = 255 if not higher else get_hex(p)\n",
    "    return '#{:02x}{:02x}{:02x}'.format(r, g, b)\n",
    "\n",
    "def p_to_color_div(p, higher=False):\n",
    "    \"\"\"Convert of p value to a color code using a diverging\n",
    "color map, meaning two opposite poles are distinguished from the middle and from each other.\n",
    "higher=True if the observed mean (bar height) is higher than the test mean.\"\"\"\n",
    "    cmap = cm.get_cmap('seismic')\n",
    "#     help(cmap)\n",
    "    return cmap(p_to_norm(p, higher))\n",
    "\n",
    "\n",
    "def p_to_color_seq(p):\n",
    "    \"\"\"Convert of p value to a color code using a sequential\n",
    "color map, meaning the distinction is made primarily between two opposite poles.\"\"\"\n",
    "    cmap = cm.get_cmap('Reds')\n",
    "#     help(cmap)\n",
    "    return cmap(p)\n",
    "\n",
    "# p_to_color(0.0001, False), p_to_color(0.3, True)\n",
    "plt.figure()\n",
    "# Plot map from p to geometric curve\n",
    "plt.plot(np.arange(0, 1, 0.05), [p_to_norm(p, False) for p in np.arange(0, 1, 0.05)])"
   ]
  },
  {
   "cell_type": "markdown",
   "metadata": {},
   "source": [
    "## Create an interactive plot that supports both 1-sample tests against a chosen value and a test for how likely the population mean is to be within a range"
   ]
  },
  {
   "cell_type": "code",
   "execution_count": null,
   "metadata": {
    "ExecuteTime": {
     "end_time": "2019-01-27T07:05:53.892326Z",
     "start_time": "2019-01-27T07:05:53.720372Z"
    }
   },
   "outputs": [],
   "source": [
    "gs = gridspec.GridSpec(2, 1, height_ratios=(6,1), hspace=0.3)\n",
    "fig = plt.figure(figsize=(9,7))\n",
    "ax = plt.subplot(gs[0, 0])\n",
    "ax2 = plt.subplot(gs[1, 0])\n",
    "\n",
    "y1, y2 = 40000, 40000\n",
    "cursor, lines = None, []\n",
    "\n",
    "\n",
    "def redraw():\n",
    "    \"\"\"Redraw the basic subplot and bars\"\"\"\n",
    "    global cursor\n",
    "    cursor = None\n",
    "    ax.cla()\n",
    "    \n",
    "    bars = ax.bar(stats.index.astype(str), stats['mean'], yerr=stats['interval'], capsize=10);\n",
    "    fig.subplots_adjust(right=.75)\n",
    "    \n",
    "    ax.set_frame_on(False)\n",
    "    ax.tick_params(bottom=False)\n",
    "    return bars\n",
    "\n",
    "def plot(stats):\n",
    "    \"\"\"Plot the bars, draw all supporting features, run tests, paint according to test results.\"\"\"\n",
    "    global y1, y2, lines\n",
    "    bars = redraw()\n",
    "    \n",
    "    if y1 == y2:\n",
    "        add_line(y1)\n",
    "        ax.set_title('Mean comparison against y = {}'.format(int(y1)))\n",
    "\n",
    "        ttres = st.ttest_1samp(dfT, y1)\n",
    "        ps = ttres[1]\n",
    "        \n",
    "        label_bars(ps, bars, lambda p,b: p_to_color_div(p, b.get_height() > y1), True)\n",
    "\n",
    "        asc, desc = np.arange(0,1,0.2), np.arange(1,-0.1,-0.2)\n",
    "        colors = [p_to_color_div(p, True) for p in asc] + [p_to_color_div(p, False) for p in desc]\n",
    "\n",
    "        leg = add_legend(colors, np.around(np.append(asc, desc), 1))\n",
    "    else:\n",
    "        add_line(y1)\n",
    "        add_line(y2)\n",
    "        ymin, ymax = min(y1, y2), max(y1, y2)\n",
    "        \n",
    "        ax.set_title('Probability of population mean between {} and {}'.format(int(ymin), int(ymax)))\n",
    "        \n",
    "        lower = st.t.cdf(ymin, stats['dof'], loc=stats['mean'], scale=stats['stderr'])\n",
    "        higher = st.t.cdf(ymax, stats['dof'], loc=stats['mean'], scale=stats['stderr'])\n",
    "        density_in_range = higher - lower\n",
    "        \n",
    "        label_bars(density_in_range, bars, lambda p,b: p_to_color_seq(p), False)\n",
    "\n",
    "        seq = np.arange(1.01,0,-0.1)\n",
    "        colors = [p_to_color_seq(p) for p in seq]\n",
    "\n",
    "        leg = add_legend(colors, np.around(seq, 1))\n",
    "    \n",
    "    return bars\n",
    "\n",
    "def label_bars(ps, bars, ptc, invert_colors=False):\n",
    "    for p,b in zip(ps, bars):\n",
    "        textcolor = 'black' if invert_colors ^ (p < 0.40) else 'white'\n",
    "        ax.text(b.get_x() + b.get_width()/2, 8000, '\\u03bc: {}'.format(int(b.get_height())),\n",
    "                  ha='center', va='center', color=textcolor)\n",
    "        ax.text(b.get_x() + b.get_width()/2, 5000, 'p: {:.2}'.format(p),\n",
    "                  ha='center', va='center', color=textcolor)\n",
    "        b.set_color(ptc(p, b))\n",
    "\n",
    "def setup_widgets():\n",
    "    ax2.set_frame_on(False)\n",
    "    ax2.tick_params(bottom=False, labelbottom=False, left=False, labelleft=False)\n",
    "    ax2.text(-0.1,1, (\"Directions: Click once to establish a single mean value to compare against \"\n",
    "                   \"depicted means.\\nClick and drag to establish a vertical range to assess how \"\n",
    "                   \"likely each mean is to fall within the range.\"))\n",
    "    \n",
    "def add_line(y):\n",
    "    global lines\n",
    "    lines.append(ax.add_line(Line2D([-0.5, 3.5], [y,y], linewidth=0.5, color='black')))\n",
    "    \n",
    "def clear_lines():\n",
    "    global lines\n",
    "    for l in lines: l.set_visible(False)\n",
    "    lines.clear()\n",
    "    \n",
    "def add_legend(colors, labels):\n",
    "    leg = ax.legend(handles=[Patch(facecolor=c, label=l) for c, l in\n",
    "                             zip(colors, labels)\n",
    "                            ],\n",
    "                    loc=(0.98,0.1), title='p-value')\n",
    "    leg.set_frame_on(False)\n",
    "    return leg\n",
    "\n",
    "def onpress(event):\n",
    "    global y1, cursor, lines\n",
    "    y1 = event.ydata\n",
    "    clear_lines()\n",
    "    add_line(y1)\n",
    "    cursor = widgets.Cursor(ax, vertOn=False, color='black', linestyle='--')\n",
    "    \n",
    "def onrelease(event):\n",
    "    global y2\n",
    "    y2 = event.ydata\n",
    "    plot(stats)\n",
    "    \n",
    "    \n",
    "# tell mpl_connect we want to pass a 'button_press_event' into onclick when the event is detected\n",
    "fig.canvas.mpl_connect('button_press_event', onpress)\n",
    "fig.canvas.mpl_connect('button_release_event', onrelease)\n",
    "\n",
    "plot(stats)\n",
    "setup_widgets()"
   ]
  }
 ],
 "metadata": {
  "kernelspec": {
   "display_name": "Python 3",
   "language": "python",
   "name": "python3"
  },
  "language_info": {
   "codemirror_mode": {
    "name": "ipython",
    "version": 3
   },
   "file_extension": ".py",
   "mimetype": "text/x-python",
   "name": "python",
   "nbconvert_exporter": "python",
   "pygments_lexer": "ipython3",
   "version": "3.6.5"
  }
 },
 "nbformat": 4,
 "nbformat_minor": 2
}
