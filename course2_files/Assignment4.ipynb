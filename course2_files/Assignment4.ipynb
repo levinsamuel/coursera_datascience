{
 "cells": [
  {
   "cell_type": "markdown",
   "metadata": {
    "collapsed": true
   },
   "source": [
    "# Assignment 4\n",
    "\n",
    "Before working on this assignment please read these instructions fully. In the submission area, you will notice that you can click the link to **Preview the Grading** for each step of the assignment. This is the criteria that will be used for peer grading. Please familiarize yourself with the criteria before beginning the assignment.\n",
    "\n",
    "This assignment requires that you to find **at least** two datasets on the web which are related, and that you visualize these datasets to answer a question with the broad topic of **religious events or traditions** (see below) for the region of **Burbank, California, United States**, or **United States** more broadly.\n",
    "\n",
    "You can merge these datasets with data from different regions if you like! For instance, you might want to compare **Burbank, California, United States** to Ann Arbor, USA. In that case at least one source file must be about **Burbank, California, United States**.\n",
    "\n",
    "You are welcome to choose datasets at your discretion, but keep in mind **they will be shared with your peers**, so choose appropriate datasets. Sensitive, confidential, illicit, and proprietary materials are not good choices for datasets for this assignment. You are welcome to upload datasets of your own as well, and link to them using a third party repository such as github, bitbucket, pastebin, etc. Please be aware of the Coursera terms of service with respect to intellectual property.\n",
    "\n",
    "Also, you are welcome to preserve data in its original language, but for the purposes of grading you should provide english translations. You are welcome to provide multiple visuals in different languages if you would like!\n",
    "\n",
    "As this assignment is for the whole course, you must incorporate principles discussed in the first week, such as having as high data-ink ratio (Tufte) and aligning with Cairo’s principles of truth, beauty, function, and insight.\n",
    "\n",
    "Here are the assignment instructions:\n",
    "\n",
    " * State the region and the domain category that your data sets are about (e.g., **Burbank, California, United States** and **religious events or traditions**).\n",
    " * You must state a question about the domain category and region that you identified as being interesting.\n",
    " * You must provide at least two links to available datasets. These could be links to files such as CSV or Excel files, or links to websites which might have data in tabular form, such as Wikipedia pages.\n",
    " * You must upload an image which addresses the research question you stated. In addition to addressing the question, this visual should follow Cairo's principles of truthfulness, functionality, beauty, and insightfulness.\n",
    " * You must contribute a short (1-2 paragraph) written justification of how your visualization addresses your stated research question.\n",
    "\n",
    "What do we mean by **religious events or traditions**?  For this category you might consider calendar events, demographic data about religion in the region and neighboring regions, participation in religious events, or how religious events relate to political events, social movements, or historical events.\n",
    "\n",
    "## Tips\n",
    "* Wikipedia is an excellent source of data, and I strongly encourage you to explore it for new data sources.\n",
    "* Many governments run open data initiatives at the city, region, and country levels, and these are wonderful resources for localized data sources.\n",
    "* Several international agencies, such as the [United Nations](http://data.un.org/), the [World Bank](http://data.worldbank.org/), the [Global Open Data Index](http://index.okfn.org/place/) are other great places to look for data.\n",
    "* This assignment requires you to convert and clean datafiles. Check out the discussion forums for tips on how to do this from various sources, and share your successes with your fellow students!\n",
    "\n",
    "## Example\n",
    "Looking for an example? Here's what our course assistant put together for the **Ann Arbor, MI, USA** area using **sports and athletics** as the topic. [Example Solution File](./readonly/Assignment4_example.pdf)"
   ]
  },
  {
   "cell_type": "markdown",
   "metadata": {},
   "source": [
    "# Solution"
   ]
  },
  {
   "cell_type": "code",
   "execution_count": 1,
   "metadata": {
    "ExecuteTime": {
     "end_time": "2019-02-03T04:20:39.745886Z",
     "start_time": "2019-02-03T04:20:39.208894Z"
    }
   },
   "outputs": [],
   "source": [
    "import pandas as pd\n",
    "import numpy as np\n",
    "import matplotlib.pyplot as plt"
   ]
  },
  {
   "cell_type": "markdown",
   "metadata": {},
   "source": [
    "## Data\n",
    "\n",
    "from: http://www.thearda.com/Archive/Files/Descriptions/NES16.asp\n",
    "\n",
    "The data were downloaded from the Association of Religion Data Archives, www.TheARDA.com, and were collected by \n",
    "\n",
    "## Files\n",
    "\n",
    " * `ARDA_2016questions.txt`: The list of questions asked, which correspond to the data file. I have marked these with the questions I found interesting\n",
    " * `ARDA_2016survey.csv`: The raw files containing survey responses\n",
    " "
   ]
  },
  {
   "cell_type": "code",
   "execution_count": 82,
   "metadata": {
    "ExecuteTime": {
     "end_time": "2019-02-03T06:14:53.776373Z",
     "start_time": "2019-02-03T06:14:53.773373Z"
    }
   },
   "outputs": [],
   "source": [
    "# some constants\n",
    "\n",
    "# The code for the repsondant ID\n",
    "identity_code = 'V160001'\n"
   ]
  },
  {
   "cell_type": "markdown",
   "metadata": {},
   "source": [
    "### Filter out relevant questions\n",
    "\n",
    "This is a map from the question code which maps the column to the question text, and other info about the question"
   ]
  },
  {
   "cell_type": "code",
   "execution_count": 75,
   "metadata": {
    "ExecuteTime": {
     "end_time": "2019-02-03T06:10:37.306654Z",
     "start_time": "2019-02-03T06:10:37.299658Z"
    }
   },
   "outputs": [],
   "source": [
    "class Question:\n",
    "    \"\"\"Class for storing information about each question, question text, meaning of answers, etc.\"\"\"\n",
    "    def __init__(self, code):\n",
    "        self.code = code.strip()\n",
    "        self.answers = {}\n",
    "    \n",
    "    def __str__(self):\n",
    "        return \"{}: {} answers, question = {}\"\\\n",
    "            .format(self.code, len(self.answers), self.text)\n",
    "    \n",
    "    def __repr__(self):\n",
    "        return self.__str__()\n",
    "    \n",
    "    def set_text(self, text):\n",
    "        self.text = text\n",
    "        \n",
    "    def add_answer(self, code, val):\n",
    "        self.answers[int(code)] = val\n",
    "        "
   ]
  },
  {
   "cell_type": "markdown",
   "metadata": {},
   "source": [
    "### Read question file"
   ]
  },
  {
   "cell_type": "code",
   "execution_count": 92,
   "metadata": {
    "ExecuteTime": {
     "end_time": "2019-02-03T06:20:55.852129Z",
     "start_time": "2019-02-03T06:20:55.827144Z"
    }
   },
   "outputs": [],
   "source": [
    "questions = {}\n",
    "with open('a4_project_data/ARDA_2016questions.txt') as f:\n",
    "    include, readnext = False, 0\n",
    "    for lin in f:\n",
    "        lin = lin.strip()\n",
    "        \n",
    "        if include:\n",
    "            if readnext == 4:\n",
    "                ques.set_text(lin)\n",
    "            elif readnext == 0:\n",
    "                try:\n",
    "                    # split answer code from description\n",
    "                    code, rest = lin.split(')', 1)\n",
    "                    # take all tokens but last two (count and percentage)\n",
    "                    ans = rest.strip().split()[:-2]\n",
    "                    ques.add_answer(code, ' '.join(ans))\n",
    "                except ValueError:\n",
    "                    # hit an empty line after reading answers\n",
    "                    # print(lin)\n",
    "                    include = False\n",
    "                \n",
    "        if (lin.startswith('*')):\n",
    "            code = lin[lin.index(')') + 2:]\n",
    "            ques = Question(code)\n",
    "            questions[code] = ques\n",
    "            include = True\n",
    "            readnext = 5\n",
    "            \n",
    "        if readnext > 0:\n",
    "            readnext -= 1\n",
    "            \n",
    "# questions['V162342']\n",
    "# help(str.split)"
   ]
  },
  {
   "cell_type": "code",
   "execution_count": 102,
   "metadata": {
    "ExecuteTime": {
     "end_time": "2019-02-03T06:29:24.688208Z",
     "start_time": "2019-02-03T06:29:24.681210Z"
    }
   },
   "outputs": [],
   "source": [
    "# questions related to religion\n",
    "religionqs = tuple(filter(lambda c: 'religi' in questions[c].text.lower(), questions.keys()))\n",
    "rq2 = list(questions.keys())\n",
    "rq2 = rq2[rq2.index(religionqs[0]):rq2.index(religionqs[-1])]\n",
    "religionqs = rq2"
   ]
  },
  {
   "cell_type": "markdown",
   "metadata": {},
   "source": [
    "### Read survey file, filter all but relevant questions"
   ]
  },
  {
   "cell_type": "code",
   "execution_count": 12,
   "metadata": {
    "ExecuteTime": {
     "end_time": "2019-02-03T04:36:05.900889Z",
     "start_time": "2019-02-03T04:36:05.012344Z"
    }
   },
   "outputs": [],
   "source": [
    "df0 = pd.read_csv('a4_project_data/ARDA_2016survey.csv')"
   ]
  },
  {
   "cell_type": "markdown",
   "metadata": {},
   "source": [
    "#### Filter out questions in the question file not found in the data"
   ]
  },
  {
   "cell_type": "code",
   "execution_count": 95,
   "metadata": {
    "ExecuteTime": {
     "end_time": "2019-02-03T06:21:15.671998Z",
     "start_time": "2019-02-03T06:21:15.621024Z"
    }
   },
   "outputs": [
    {
     "name": "stdout",
     "output_type": "stream",
     "text": [
      "question not found in file: V162342: 11 answers, question = Please mark how well the following pair of words describes you, even if one word describes you better than the other. 'Conventional, uncreative' describes me...\n"
     ]
    },
    {
     "data": {
      "text/html": [
       "<div>\n",
       "<table border=\"1\" class=\"dataframe\">\n",
       "  <thead>\n",
       "    <tr style=\"text-align: right;\">\n",
       "      <th>Question Code</th>\n",
       "      <th>V161071</th>\n",
       "      <th>V161074</th>\n",
       "      <th>V161077</th>\n",
       "      <th>V161080</th>\n",
       "      <th>V161081</th>\n",
       "      <th>V161085</th>\n",
       "      <th>V161086</th>\n",
       "      <th>V161116</th>\n",
       "      <th>V161118</th>\n",
       "      <th>V161120</th>\n",
       "      <th>...</th>\n",
       "      <th>V162099</th>\n",
       "      <th>V162101</th>\n",
       "      <th>V162105</th>\n",
       "      <th>V162126</th>\n",
       "      <th>V162127</th>\n",
       "      <th>V162160</th>\n",
       "      <th>V162168</th>\n",
       "      <th>V162170</th>\n",
       "      <th>V162255</th>\n",
       "      <th>V162255A</th>\n",
       "    </tr>\n",
       "    <tr>\n",
       "      <th>Participant</th>\n",
       "      <th></th>\n",
       "      <th></th>\n",
       "      <th></th>\n",
       "      <th></th>\n",
       "      <th></th>\n",
       "      <th></th>\n",
       "      <th></th>\n",
       "      <th></th>\n",
       "      <th></th>\n",
       "      <th></th>\n",
       "      <th></th>\n",
       "      <th></th>\n",
       "      <th></th>\n",
       "      <th></th>\n",
       "      <th></th>\n",
       "      <th></th>\n",
       "      <th></th>\n",
       "      <th></th>\n",
       "      <th></th>\n",
       "      <th></th>\n",
       "      <th></th>\n",
       "    </tr>\n",
       "  </thead>\n",
       "  <tbody>\n",
       "    <tr>\n",
       "      <th>300001</th>\n",
       "      <td>1</td>\n",
       "      <td>1</td>\n",
       "      <td>2</td>\n",
       "      <td>2</td>\n",
       "      <td>2</td>\n",
       "      <td>2</td>\n",
       "      <td>0</td>\n",
       "      <td>5</td>\n",
       "      <td>4</td>\n",
       "      <td>5</td>\n",
       "      <td>...</td>\n",
       "      <td>70</td>\n",
       "      <td>70</td>\n",
       "      <td>50</td>\n",
       "      <td>1</td>\n",
       "      <td>5</td>\n",
       "      <td>1</td>\n",
       "      <td>2</td>\n",
       "      <td>1</td>\n",
       "      <td>2</td>\n",
       "      <td>5</td>\n",
       "    </tr>\n",
       "    <tr>\n",
       "      <th>300002</th>\n",
       "      <td>1</td>\n",
       "      <td>1</td>\n",
       "      <td>1</td>\n",
       "      <td>2</td>\n",
       "      <td>2</td>\n",
       "      <td>2</td>\n",
       "      <td>0</td>\n",
       "      <td>3</td>\n",
       "      <td>3</td>\n",
       "      <td>3</td>\n",
       "      <td>...</td>\n",
       "      <td>50</td>\n",
       "      <td>60</td>\n",
       "      <td>50</td>\n",
       "      <td>1</td>\n",
       "      <td>5</td>\n",
       "      <td>5</td>\n",
       "      <td>1</td>\n",
       "      <td>3</td>\n",
       "      <td>1</td>\n",
       "      <td>4</td>\n",
       "    </tr>\n",
       "    <tr>\n",
       "      <th>300003</th>\n",
       "      <td>2</td>\n",
       "      <td>2</td>\n",
       "      <td>2</td>\n",
       "      <td>2</td>\n",
       "      <td>2</td>\n",
       "      <td>2</td>\n",
       "      <td>50</td>\n",
       "      <td>2</td>\n",
       "      <td>2</td>\n",
       "      <td>2</td>\n",
       "      <td>...</td>\n",
       "      <td>60</td>\n",
       "      <td>50</td>\n",
       "      <td>50</td>\n",
       "      <td>1</td>\n",
       "      <td>4</td>\n",
       "      <td>4</td>\n",
       "      <td>2</td>\n",
       "      <td>1</td>\n",
       "      <td>1</td>\n",
       "      <td>3</td>\n",
       "    </tr>\n",
       "    <tr>\n",
       "      <th>300004</th>\n",
       "      <td>1</td>\n",
       "      <td>1</td>\n",
       "      <td>1</td>\n",
       "      <td>1</td>\n",
       "      <td>2</td>\n",
       "      <td>2</td>\n",
       "      <td>0</td>\n",
       "      <td>3</td>\n",
       "      <td>3</td>\n",
       "      <td>3</td>\n",
       "      <td>...</td>\n",
       "      <td>50</td>\n",
       "      <td>50</td>\n",
       "      <td>50</td>\n",
       "      <td>1</td>\n",
       "      <td>3</td>\n",
       "      <td>3</td>\n",
       "      <td>4</td>\n",
       "      <td>2</td>\n",
       "      <td>2</td>\n",
       "      <td>5</td>\n",
       "    </tr>\n",
       "    <tr>\n",
       "      <th>300006</th>\n",
       "      <td>1</td>\n",
       "      <td>2</td>\n",
       "      <td>1</td>\n",
       "      <td>2</td>\n",
       "      <td>2</td>\n",
       "      <td>2</td>\n",
       "      <td>15</td>\n",
       "      <td>2</td>\n",
       "      <td>2</td>\n",
       "      <td>4</td>\n",
       "      <td>...</td>\n",
       "      <td>85</td>\n",
       "      <td>70</td>\n",
       "      <td>70</td>\n",
       "      <td>1</td>\n",
       "      <td>3</td>\n",
       "      <td>3</td>\n",
       "      <td>4</td>\n",
       "      <td>2</td>\n",
       "      <td>1</td>\n",
       "      <td>4</td>\n",
       "    </tr>\n",
       "  </tbody>\n",
       "</table>\n",
       "<p>5 rows × 51 columns</p>\n",
       "</div>"
      ],
      "text/plain": [
       "Question Code  V161071  V161074  V161077  V161080  V161081  V161085  V161086  \\\n",
       "Participant                                                                    \n",
       "300001               1        1        2        2        2        2        0   \n",
       "300002               1        1        1        2        2        2        0   \n",
       "300003               2        2        2        2        2        2       50   \n",
       "300004               1        1        1        1        2        2        0   \n",
       "300006               1        2        1        2        2        2       15   \n",
       "\n",
       "Question Code  V161116  V161118  V161120    ...     V162099  V162101  V162105  \\\n",
       "Participant                                 ...                                 \n",
       "300001               5        4        5    ...          70       70       50   \n",
       "300002               3        3        3    ...          50       60       50   \n",
       "300003               2        2        2    ...          60       50       50   \n",
       "300004               3        3        3    ...          50       50       50   \n",
       "300006               2        2        4    ...          85       70       70   \n",
       "\n",
       "Question Code  V162126  V162127  V162160  V162168  V162170  V162255  V162255A  \n",
       "Participant                                                                    \n",
       "300001               1        5        1        2        1        2         5  \n",
       "300002               1        5        5        1        3        1         4  \n",
       "300003               1        4        4        2        1        1         3  \n",
       "300004               1        3        3        4        2        2         5  \n",
       "300006               1        3        3        4        2        1         4  \n",
       "\n",
       "[5 rows x 51 columns]"
      ]
     },
     "execution_count": 95,
     "metadata": {},
     "output_type": "execute_result"
    }
   ],
   "source": [
    "fnd, nf = [identity_code],0\n",
    "for k, q in questions.items():\n",
    "    try:\n",
    "        df0[k]\n",
    "        fnd.append(k)\n",
    "    except KeyError:\n",
    "        nf += 1\n",
    "        print('question not found in file:', q)\n",
    "        \n",
    "df1 = df0[fnd].rename(columns={identity_code: 'Participant'}).set_index('Participant')\n",
    "df1.columns.name = 'Question Code'\n",
    "df1.head()"
   ]
  },
  {
   "cell_type": "code",
   "execution_count": 104,
   "metadata": {
    "ExecuteTime": {
     "end_time": "2019-02-03T06:31:07.840643Z",
     "start_time": "2019-02-03T06:31:07.834646Z"
    }
   },
   "outputs": [
    {
     "data": {
      "text/plain": [
       "[V161241: 4 answers, question = Now on another topic.... do you consider religion to be an important part of your life, or not?,\n",
       " V161242: 6 answers, question = IF R SAYS THAT RELIGION IS IMPORTANT: Would you say your religion provides [some guidance in your day-to-day living, quite a bit of guidance, or a great deal of guidance / a great deal of guidance in your day-to-day living, quite a bit of guidance, or some guidance]?,\n",
       " V161243: 6 answers, question = Which of these statements comes closest to describing your feelings about the Bible?,\n",
       " V161244: 4 answers, question = Lots of things come up that keep people from attending religious services even if they want to. Thinking about your life these days, do you ever attend religious services, apart from occasional weddings, baptisms or funerals?,\n",
       " V161245: 7 answers, question = IF R ATTENDS RELIGIOUS SERVICES: Do you go to religious services [every week, almost every week, once or twice a month, a few times a year, or never / never, a few times a year, once or twice a month, almost every week, or every week]?,\n",
       " V161247A: 6 answers, question = IF R ATTENDS RELIGIOUS SERVICES: Do you mostly attend a place of worship that is Protestant, Roman Catholic, Jewish, or something else?,\n",
       " V161247B: 7 answers, question = IF R DOES NOT ATTEND CHURCH BUT THINKS OF SELF AS PART OF CHURCH OR DENOMINATION: Do you consider yourself Protestant, Roman Catholic, Jewish, or something else?,\n",
       " V161248: 34 answers, question = IF R ATTENDS CHURCH AND ATTENDS AS PROTESTANT OR 'OTHER' / IF DOES NOT ATTEND CHURCH BUT THINKS OF SELF AS PART OF CHURCH OR DENOMINATION AND CONSIDERS SELF PROTESTANT OR 'OTHER': What religion, church or denomination is that?,\n",
       " V161266A: 4 answers, question = Which of the following terms describe your religious beliefs? - Fundamentalist,\n",
       " V161266C: 4 answers, question = Which of the following terms describe your religious beliefs? - Born again,\n",
       " V161266D: 4 answers, question = Which of the following terms describe your religious beliefs? - Evangelical]"
      ]
     },
     "execution_count": 104,
     "metadata": {},
     "output_type": "execute_result"
    }
   ],
   "source": [
    "[questions[k] for k in religionqs]\n",
    "\n"
   ]
  },
  {
   "cell_type": "markdown",
   "metadata": {},
   "source": [
    "### Next task: identify the participant's religion using questions V161247A, V161247B, V161248"
   ]
  }
 ],
 "metadata": {
  "kernelspec": {
   "display_name": "Python 3",
   "language": "python",
   "name": "python3"
  },
  "language_info": {
   "codemirror_mode": {
    "name": "ipython",
    "version": 3
   },
   "file_extension": ".py",
   "mimetype": "text/x-python",
   "name": "python",
   "nbconvert_exporter": "python",
   "pygments_lexer": "ipython3",
   "version": "3.6.5"
  }
 },
 "nbformat": 4,
 "nbformat_minor": 1
}
